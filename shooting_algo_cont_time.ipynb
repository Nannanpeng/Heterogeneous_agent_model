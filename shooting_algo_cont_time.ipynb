{
  "nbformat": 4,
  "nbformat_minor": 0,
  "metadata": {
    "colab": {
      "name": "shooting_algo_cont_time.ipynb",
      "provenance": [],
      "collapsed_sections": [],
      "authorship_tag": "ABX9TyNe2p5j+RLALSMpp60CKbfp",
      "include_colab_link": true
    },
    "kernelspec": {
      "name": "python3",
      "display_name": "Python 3"
    }
  },
  "cells": [
    {
      "cell_type": "markdown",
      "metadata": {
        "id": "view-in-github",
        "colab_type": "text"
      },
      "source": [
        "<a href=\"https://colab.research.google.com/github/Nannanpeng/Heterogeneous_agent_model/blob/master/shooting_algo_cont_time.ipynb\" target=\"_parent\"><img src=\"https://colab.research.google.com/assets/colab-badge.svg\" alt=\"Open In Colab\"/></a>"
      ]
    },
    {
      "cell_type": "code",
      "metadata": {
        "id": "M_jInHDNDZWq"
      },
      "source": [
        "import numpy as np\n",
        "import matplotlib.pyplot as plt"
      ],
      "execution_count": 1,
      "outputs": []
    },
    {
      "cell_type": "code",
      "metadata": {
        "id": "4Z6jRC3TDmUf"
      },
      "source": [
        "A = 1\n",
        "alpha = 0.3\n",
        "sigma = 2\n",
        "pho = delta = 0.05\n",
        "dt = 0.1\n",
        "N = 700"
      ],
      "execution_count": 2,
      "outputs": []
    },
    {
      "cell_type": "code",
      "metadata": {
        "id": "vAWJFJWgFAiA",
        "outputId": "cc9f7b45-214c-47fd-f0a3-273b2dab50da",
        "colab": {
          "base_uri": "https://localhost:8080/",
          "height": 34
        }
      },
      "source": [
        "k_star = (A*alpha/(pho+delta))**(1/(1-alpha))\n",
        "c_star = A*k_star**alpha - delta*k_star\n",
        "print(f\"The steady state capital and consumption is {k_star:f} and {c_star:f}.\")"
      ],
      "execution_count": 3,
      "outputs": [
        {
          "output_type": "stream",
          "text": [
            "The steady state capital and consumption is 4.803987 and 1.361130.\n"
          ],
          "name": "stdout"
        }
      ]
    },
    {
      "cell_type": "code",
      "metadata": {
        "id": "a67L6hIzFwQS",
        "outputId": "d3b2fb8f-e01b-4035-ae11-bf54d3bc463c",
        "colab": {
          "base_uri": "https://localhost:8080/",
          "height": 118
        }
      },
      "source": [
        "%time\n",
        "k_0 = k_star/2\n",
        "c_max = A*k_0**alpha\n",
        "c_min = 0\n",
        "\n",
        "k_path = np.empty(N)\n",
        "c_path = np.empty(N)\n",
        "\n",
        "iter = 300\n",
        "tol = 1e-6\n",
        "err = 1+tol\n",
        "i = 0\n",
        "while err > tol and i < iter:\n",
        "    c_0 = (c_max + c_min)/2\n",
        "    k_path[0] = k_0\n",
        "    c_path[0] = c_0\n",
        "    #print(c_0)\n",
        "    for n in range(1, N):\n",
        "        if k_path[n-1] < 0: # avoid negative capital or over-consumption\n",
        "            break\n",
        "        c_path[n] = dt*c_path[n-1]*(1/sigma)*(A*alpha*k_path[n-1]**(alpha-1)-pho-delta) + c_path[n-1]\n",
        "        k_path[n] = dt*(A*k_path[n-1]**alpha - delta*k_path[n-1] - c_path[n-1]) + k_path[n-1]\n",
        "    err = abs(k_path[-1] - k_star)\n",
        "    i += 1\n",
        "    if k_path[-1] < k_star or n < N-1:\n",
        "        c_max = c_0\n",
        "    else:\n",
        "        c_min = c_0\n",
        "\n",
        "print(f\"\\nConvergence is reached after {i} iterations.\")\n",
        "print(f\"Initial consumption should be {c_0:f}.\")\n",
        "print(f\"k_N = {k_path[-1]:f} and c_N = {c_path[-1]:f}.\")"
      ],
      "execution_count": 6,
      "outputs": [
        {
          "output_type": "stream",
          "text": [
            "CPU times: user 3 µs, sys: 0 ns, total: 3 µs\n",
            "Wall time: 5.01 µs\n",
            "\n",
            "Convergence is reached after 31 iterations.\n",
            "Initial consumption should be 1.004474.\n",
            "k_N = 4.803986 and c_N = 1.358914.\n"
          ],
          "name": "stdout"
        }
      ]
    },
    {
      "cell_type": "code",
      "metadata": {
        "id": "hcTGBkKCeH5v",
        "outputId": "1f0c8f19-a1c9-4b85-ea2e-78c6f3a72d0a",
        "colab": {
          "base_uri": "https://localhost:8080/",
          "height": 295
        }
      },
      "source": [
        "plt.plot(c_path, k_path)\n",
        "plt.ylabel('Capital')\n",
        "plt.xlabel('Consumption')\n",
        "plt.title('The path of Capital and consumption');"
      ],
      "execution_count": 5,
      "outputs": [
        {
          "output_type": "display_data",
          "data": {
            "image/png": "[encoded data removed]",
            "text/plain": [
              "<Figure size 432x288 with 1 Axes>"
            ]
          },
          "metadata": {
            "tags": [],
            "needs_background": "light"
          }
        }
      ]
    },
    {
      "cell_type": "code",
      "metadata": {
        "id": "k-AFpUj5iE7i"
      },
      "source": [
        ""
      ],
      "execution_count": 5,
      "outputs": []
    }
  ]
}